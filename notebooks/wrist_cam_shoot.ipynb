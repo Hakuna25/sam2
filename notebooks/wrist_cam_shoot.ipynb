{
 "cells": [
  {
   "cell_type": "markdown",
   "metadata": {},
   "source": [
    "# Connect Franka"
   ]
  },
  {
   "cell_type": "code",
   "execution_count": 8,
   "metadata": {},
   "outputs": [],
   "source": [
    "# Panda hostname/IP and Desk login information of your robot\n",
    "hostname = '172.16.0.2'\n",
    "username = 'admin'\n",
    "password = '******'\n",
    "\n",
    "# panda-py is chatty, activate information log level\n",
    "import logging\n",
    "logging.basicConfig(level=logging.INFO)"
   ]
  },
  {
   "cell_type": "code",
   "execution_count": 9,
   "metadata": {},
   "outputs": [
    {
     "name": "stderr",
     "output_type": "stream",
     "text": [
      "INFO:panda:Connected to robot (172.16.0.2).\n",
      "INFO:panda:Panda class destructor invoked (172.16.0.2).\n",
      "INFO:panda:Stopping active controller (Trajectory).\n",
      "INFO:panda:Initializing motion generation (moveToJointPosition).\n",
      "INFO:motion:Computed joint trajectory: 1 waypoint, duration 0.97 seconds.\n",
      "INFO:panda:Starting new controller (Trajectory).\n"
     ]
    },
    {
     "data": {
      "text/plain": [
       "True"
      ]
     },
     "execution_count": 9,
     "metadata": {},
     "output_type": "execute_result"
    }
   ],
   "source": [
    "import panda_py\n",
    "from panda_py import libfranka\n",
    "\n",
    "panda = panda_py.Panda(hostname)\n",
    "gripper = libfranka.Gripper(hostname)\n",
    "panda.move_to_start()"
   ]
  },
  {
   "cell_type": "code",
   "execution_count": 10,
   "metadata": {},
   "outputs": [],
   "source": [
    "from panda_py import constants\n",
    "from scipy.spatial.transform import Rotation as R\n",
    "import numpy as np\n",
    "import matplotlib.pyplot as plt\n",
    "import os\n",
    "import time"
   ]
  },
  {
   "cell_type": "markdown",
   "metadata": {},
   "source": [
    "# Shoot from Different Views"
   ]
  },
  {
   "cell_type": "code",
   "execution_count": 17,
   "metadata": {},
   "outputs": [],
   "source": [
    "# read shooting pose(7 dof joint position in one line) from file\n",
    "joint_position_list = np.loadtxt(\"shooting_pose_tabletop.txt\", delimiter=',')"
   ]
  },
  {
   "cell_type": "code",
   "execution_count": 18,
   "metadata": {},
   "outputs": [
    {
     "name": "stdout",
     "output_type": "stream",
     "text": [
      "RGB Intrinsics: [ 1280x720  p[633.573 361.852]  f[909.08 908.376]  Inverse Brown Conrady [0 0 0 0 0] ]\n",
      "RGB Distortion Coefficients: [0.0, 0.0, 0.0, 0.0, 0.0]\n",
      "Depth Scale: 0.0010000000474974513\n",
      "Depth Intrinsics: [ 1280x720  p[643.049 358.826]  f[646.826 646.826]  Brown Conrady [0 0 0 0 0] ]\n",
      "Depth Distortion Coefficients: [0.0, 0.0, 0.0, 0.0, 0.0]\n"
     ]
    },
    {
     "name": "stderr",
     "output_type": "stream",
     "text": [
      "INFO:panda:Stopping active controller (Trajectory).\n",
      "INFO:panda:Initializing motion generation (moveToJointPosition).\n",
      "INFO:motion:Computed joint trajectory: 1 waypoint, duration 0.97 seconds.\n",
      "INFO:panda:Starting new controller (Trajectory).\n",
      "INFO:panda:Stopping active controller (Trajectory).\n",
      "INFO:panda:Initializing motion generation (moveToJointPosition).\n",
      "INFO:motion:Computed joint trajectory: 1 waypoint, duration 1.86 seconds.\n",
      "INFO:panda:Starting new controller (Trajectory).\n",
      "INFO:panda:Stopping active controller (Trajectory).\n",
      "INFO:panda:Initializing motion generation (moveToJointPosition).\n",
      "INFO:motion:Computed joint trajectory: 1 waypoint, duration 2.76 seconds.\n",
      "INFO:panda:Starting new controller (Trajectory).\n"
     ]
    },
    {
     "name": "stdout",
     "output_type": "stream",
     "text": [
      "Saved /home/yisha/workspace/colmap_handeye/video/images/0.png\n",
      "Saved /home/yisha/workspace/colmap_handeye/video/depth/0.npy\n",
      "Saved pose to /home/yisha/workspace/colmap_handeye/video/poses/0.npy\n"
     ]
    },
    {
     "name": "stderr",
     "output_type": "stream",
     "text": [
      "INFO:panda:Stopping active controller (Trajectory).\n",
      "INFO:panda:Initializing motion generation (moveToJointPosition).\n",
      "INFO:motion:Computed joint trajectory: 1 waypoint, duration 1.60 seconds.\n",
      "INFO:panda:Starting new controller (Trajectory).\n"
     ]
    },
    {
     "name": "stdout",
     "output_type": "stream",
     "text": [
      "Saved /home/yisha/workspace/colmap_handeye/video/images/1.png\n",
      "Saved /home/yisha/workspace/colmap_handeye/video/depth/1.npy\n",
      "Saved pose to /home/yisha/workspace/colmap_handeye/video/poses/1.npy\n"
     ]
    },
    {
     "name": "stderr",
     "output_type": "stream",
     "text": [
      "INFO:panda:Stopping active controller (Trajectory).\n",
      "INFO:panda:Initializing motion generation (moveToJointPosition).\n",
      "INFO:motion:Computed joint trajectory: 1 waypoint, duration 2.26 seconds.\n",
      "INFO:panda:Starting new controller (Trajectory).\n"
     ]
    },
    {
     "name": "stdout",
     "output_type": "stream",
     "text": [
      "Saved /home/yisha/workspace/colmap_handeye/video/images/2.png\n",
      "Saved /home/yisha/workspace/colmap_handeye/video/depth/2.npy\n",
      "Saved pose to /home/yisha/workspace/colmap_handeye/video/poses/2.npy\n"
     ]
    },
    {
     "name": "stderr",
     "output_type": "stream",
     "text": [
      "INFO:panda:Stopping active controller (Trajectory).\n",
      "INFO:panda:Initializing motion generation (moveToJointPosition).\n",
      "INFO:motion:Computed joint trajectory: 1 waypoint, duration 0.89 seconds.\n",
      "INFO:panda:Starting new controller (Trajectory).\n"
     ]
    },
    {
     "name": "stdout",
     "output_type": "stream",
     "text": [
      "Saved /home/yisha/workspace/colmap_handeye/video/images/3.png\n",
      "Saved /home/yisha/workspace/colmap_handeye/video/depth/3.npy\n",
      "Saved pose to /home/yisha/workspace/colmap_handeye/video/poses/3.npy\n"
     ]
    },
    {
     "name": "stderr",
     "output_type": "stream",
     "text": [
      "INFO:panda:Stopping active controller (Trajectory).\n",
      "INFO:panda:Initializing motion generation (moveToJointPosition).\n",
      "INFO:motion:Computed joint trajectory: 1 waypoint, duration 1.70 seconds.\n",
      "INFO:panda:Starting new controller (Trajectory).\n"
     ]
    },
    {
     "name": "stdout",
     "output_type": "stream",
     "text": [
      "Saved /home/yisha/workspace/colmap_handeye/video/images/4.png\n",
      "Saved /home/yisha/workspace/colmap_handeye/video/depth/4.npy\n",
      "Saved pose to /home/yisha/workspace/colmap_handeye/video/poses/4.npy\n"
     ]
    },
    {
     "name": "stderr",
     "output_type": "stream",
     "text": [
      "INFO:panda:Stopping active controller (Trajectory).\n",
      "INFO:panda:Initializing motion generation (moveToJointPosition).\n",
      "INFO:motion:Computed joint trajectory: 1 waypoint, duration 3.13 seconds.\n",
      "INFO:panda:Starting new controller (Trajectory).\n"
     ]
    },
    {
     "name": "stdout",
     "output_type": "stream",
     "text": [
      "Saved /home/yisha/workspace/colmap_handeye/video/images/5.png\n",
      "Saved /home/yisha/workspace/colmap_handeye/video/depth/5.npy\n",
      "Saved pose to /home/yisha/workspace/colmap_handeye/video/poses/5.npy\n"
     ]
    },
    {
     "name": "stderr",
     "output_type": "stream",
     "text": [
      "INFO:panda:Stopping active controller (Trajectory).\n",
      "INFO:panda:Initializing motion generation (moveToJointPosition).\n",
      "INFO:motion:Computed joint trajectory: 1 waypoint, duration 3.39 seconds.\n",
      "INFO:panda:Starting new controller (Trajectory).\n"
     ]
    },
    {
     "name": "stdout",
     "output_type": "stream",
     "text": [
      "Saved /home/yisha/workspace/colmap_handeye/video/images/6.png\n",
      "Saved /home/yisha/workspace/colmap_handeye/video/depth/6.npy\n",
      "Saved pose to /home/yisha/workspace/colmap_handeye/video/poses/6.npy\n"
     ]
    },
    {
     "name": "stderr",
     "output_type": "stream",
     "text": [
      "INFO:panda:Stopping active controller (Trajectory).\n",
      "INFO:panda:Initializing motion generation (moveToJointPosition).\n",
      "INFO:motion:Computed joint trajectory: 1 waypoint, duration 1.83 seconds.\n",
      "INFO:panda:Starting new controller (Trajectory).\n"
     ]
    },
    {
     "name": "stdout",
     "output_type": "stream",
     "text": [
      "Saved /home/yisha/workspace/colmap_handeye/video/images/7.png\n",
      "Saved /home/yisha/workspace/colmap_handeye/video/depth/7.npy\n",
      "Saved pose to /home/yisha/workspace/colmap_handeye/video/poses/7.npy\n"
     ]
    },
    {
     "name": "stderr",
     "output_type": "stream",
     "text": [
      "INFO:panda:Stopping active controller (Trajectory).\n",
      "INFO:panda:Initializing motion generation (moveToJointPosition).\n",
      "INFO:motion:Computed joint trajectory: 1 waypoint, duration 2.15 seconds.\n",
      "INFO:panda:Starting new controller (Trajectory).\n"
     ]
    },
    {
     "name": "stdout",
     "output_type": "stream",
     "text": [
      "Saved /home/yisha/workspace/colmap_handeye/video/images/8.png\n",
      "Saved /home/yisha/workspace/colmap_handeye/video/depth/8.npy\n",
      "Saved pose to /home/yisha/workspace/colmap_handeye/video/poses/8.npy\n"
     ]
    },
    {
     "name": "stderr",
     "output_type": "stream",
     "text": [
      "INFO:panda:Stopping active controller (Trajectory).\n",
      "INFO:panda:Initializing motion generation (moveToJointPosition).\n",
      "INFO:motion:Computed joint trajectory: 1 waypoint, duration 1.62 seconds.\n",
      "INFO:panda:Starting new controller (Trajectory).\n"
     ]
    },
    {
     "name": "stdout",
     "output_type": "stream",
     "text": [
      "Saved /home/yisha/workspace/colmap_handeye/video/images/9.png\n",
      "Saved /home/yisha/workspace/colmap_handeye/video/depth/9.npy\n",
      "Saved pose to /home/yisha/workspace/colmap_handeye/video/poses/9.npy\n"
     ]
    },
    {
     "name": "stderr",
     "output_type": "stream",
     "text": [
      "INFO:panda:Stopping active controller (Trajectory).\n",
      "INFO:panda:Initializing motion generation (moveToJointPosition).\n",
      "INFO:motion:Computed joint trajectory: 1 waypoint, duration 0.77 seconds.\n",
      "INFO:panda:Starting new controller (Trajectory).\n"
     ]
    },
    {
     "name": "stdout",
     "output_type": "stream",
     "text": [
      "Saved /home/yisha/workspace/colmap_handeye/video/images/10.png\n",
      "Saved /home/yisha/workspace/colmap_handeye/video/depth/10.npy\n",
      "Saved pose to /home/yisha/workspace/colmap_handeye/video/poses/10.npy\n"
     ]
    },
    {
     "name": "stderr",
     "output_type": "stream",
     "text": [
      "INFO:panda:Stopping active controller (Trajectory).\n",
      "INFO:panda:Initializing motion generation (moveToJointPosition).\n",
      "INFO:motion:Computed joint trajectory: 1 waypoint, duration 5.56 seconds.\n",
      "INFO:panda:Starting new controller (Trajectory).\n"
     ]
    },
    {
     "name": "stdout",
     "output_type": "stream",
     "text": [
      "Saved /home/yisha/workspace/colmap_handeye/video/images/11.png\n",
      "Saved /home/yisha/workspace/colmap_handeye/video/depth/11.npy\n",
      "Saved pose to /home/yisha/workspace/colmap_handeye/video/poses/11.npy\n"
     ]
    },
    {
     "name": "stderr",
     "output_type": "stream",
     "text": [
      "INFO:panda:Stopping active controller (Trajectory).\n",
      "INFO:panda:Initializing motion generation (moveToJointPosition).\n",
      "INFO:motion:Computed joint trajectory: 1 waypoint, duration 2.46 seconds.\n",
      "INFO:panda:Starting new controller (Trajectory).\n"
     ]
    },
    {
     "name": "stdout",
     "output_type": "stream",
     "text": [
      "Saved /home/yisha/workspace/colmap_handeye/video/images/12.png\n",
      "Saved /home/yisha/workspace/colmap_handeye/video/depth/12.npy\n",
      "Saved pose to /home/yisha/workspace/colmap_handeye/video/poses/12.npy\n"
     ]
    },
    {
     "name": "stderr",
     "output_type": "stream",
     "text": [
      "INFO:panda:Stopping active controller (Trajectory).\n",
      "INFO:panda:Initializing motion generation (moveToJointPosition).\n",
      "INFO:motion:Computed joint trajectory: 1 waypoint, duration 2.81 seconds.\n",
      "INFO:panda:Starting new controller (Trajectory).\n"
     ]
    },
    {
     "name": "stdout",
     "output_type": "stream",
     "text": [
      "Saved /home/yisha/workspace/colmap_handeye/video/images/13.png\n",
      "Saved /home/yisha/workspace/colmap_handeye/video/depth/13.npy\n",
      "Saved pose to /home/yisha/workspace/colmap_handeye/video/poses/13.npy\n"
     ]
    },
    {
     "name": "stderr",
     "output_type": "stream",
     "text": [
      "INFO:panda:Stopping active controller (Trajectory).\n",
      "INFO:panda:Initializing motion generation (moveToJointPosition).\n",
      "INFO:motion:Computed joint trajectory: 1 waypoint, duration 3.85 seconds.\n",
      "INFO:panda:Starting new controller (Trajectory).\n"
     ]
    },
    {
     "name": "stdout",
     "output_type": "stream",
     "text": [
      "Saved /home/yisha/workspace/colmap_handeye/video/images/14.png\n",
      "Saved /home/yisha/workspace/colmap_handeye/video/depth/14.npy\n",
      "Saved pose to /home/yisha/workspace/colmap_handeye/video/poses/14.npy\n"
     ]
    },
    {
     "name": "stderr",
     "output_type": "stream",
     "text": [
      "INFO:panda:Stopping active controller (Trajectory).\n",
      "INFO:panda:Initializing motion generation (moveToJointPosition).\n",
      "INFO:motion:Computed joint trajectory: 1 waypoint, duration 4.29 seconds.\n",
      "INFO:panda:Starting new controller (Trajectory).\n"
     ]
    },
    {
     "name": "stdout",
     "output_type": "stream",
     "text": [
      "Saved /home/yisha/workspace/colmap_handeye/video/images/15.png\n",
      "Saved /home/yisha/workspace/colmap_handeye/video/depth/15.npy\n",
      "Saved pose to /home/yisha/workspace/colmap_handeye/video/poses/15.npy\n"
     ]
    },
    {
     "name": "stderr",
     "output_type": "stream",
     "text": [
      "INFO:panda:Stopping active controller (Trajectory).\n",
      "INFO:panda:Initializing motion generation (moveToJointPosition).\n",
      "INFO:motion:Computed joint trajectory: 1 waypoint, duration 1.83 seconds.\n",
      "INFO:panda:Starting new controller (Trajectory).\n"
     ]
    },
    {
     "name": "stdout",
     "output_type": "stream",
     "text": [
      "Saved /home/yisha/workspace/colmap_handeye/video/images/16.png\n",
      "Saved /home/yisha/workspace/colmap_handeye/video/depth/16.npy\n",
      "Saved pose to /home/yisha/workspace/colmap_handeye/video/poses/16.npy\n"
     ]
    },
    {
     "name": "stderr",
     "output_type": "stream",
     "text": [
      "INFO:panda:Stopping active controller (Trajectory).\n",
      "INFO:panda:Initializing motion generation (moveToJointPosition).\n",
      "INFO:motion:Computed joint trajectory: 1 waypoint, duration 2.41 seconds.\n",
      "INFO:panda:Starting new controller (Trajectory).\n"
     ]
    },
    {
     "name": "stdout",
     "output_type": "stream",
     "text": [
      "Saved /home/yisha/workspace/colmap_handeye/video/images/17.png\n",
      "Saved /home/yisha/workspace/colmap_handeye/video/depth/17.npy\n",
      "Saved pose to /home/yisha/workspace/colmap_handeye/video/poses/17.npy\n"
     ]
    },
    {
     "name": "stderr",
     "output_type": "stream",
     "text": [
      "INFO:panda:Stopping active controller (Trajectory).\n",
      "INFO:panda:Initializing motion generation (moveToJointPosition).\n",
      "INFO:motion:Computed joint trajectory: 1 waypoint, duration 1.07 seconds.\n",
      "INFO:panda:Starting new controller (Trajectory).\n"
     ]
    },
    {
     "name": "stdout",
     "output_type": "stream",
     "text": [
      "Saved /home/yisha/workspace/colmap_handeye/video/images/18.png\n",
      "Saved /home/yisha/workspace/colmap_handeye/video/depth/18.npy\n",
      "Saved pose to /home/yisha/workspace/colmap_handeye/video/poses/18.npy\n"
     ]
    },
    {
     "name": "stderr",
     "output_type": "stream",
     "text": [
      "INFO:panda:Stopping active controller (Trajectory).\n",
      "INFO:panda:Initializing motion generation (moveToJointPosition).\n",
      "INFO:motion:Computed joint trajectory: 1 waypoint, duration 8.50 seconds.\n",
      "INFO:panda:Starting new controller (Trajectory).\n"
     ]
    },
    {
     "name": "stdout",
     "output_type": "stream",
     "text": [
      "Saved /home/yisha/workspace/colmap_handeye/video/images/19.png\n",
      "Saved /home/yisha/workspace/colmap_handeye/video/depth/19.npy\n",
      "Saved pose to /home/yisha/workspace/colmap_handeye/video/poses/19.npy\n"
     ]
    },
    {
     "name": "stderr",
     "output_type": "stream",
     "text": [
      "ERROR:panda:Control loop interruped: libfranka: Move command aborted: motion aborted by reflex! [\"max_path_pose_deviation_violation\"]\n",
      "control_command_success_rate: 1\n",
      "INFO:panda:Stopping active controller (Trajectory).\n",
      "WARNING:panda:Irregular state detected. Attempting automatic error recovery.\n",
      "INFO:panda:Initializing motion generation (moveToJointPosition).\n",
      "INFO:motion:Computed joint trajectory: 1 waypoint, duration 1.67 seconds.\n",
      "INFO:panda:Starting new controller (Trajectory).\n"
     ]
    },
    {
     "name": "stdout",
     "output_type": "stream",
     "text": [
      "Saved /home/yisha/workspace/colmap_handeye/video/images/20.png\n",
      "Saved /home/yisha/workspace/colmap_handeye/video/depth/20.npy\n",
      "Saved pose to /home/yisha/workspace/colmap_handeye/video/poses/20.npy\n"
     ]
    },
    {
     "name": "stderr",
     "output_type": "stream",
     "text": [
      "INFO:panda:Stopping active controller (Trajectory).\n",
      "INFO:panda:Initializing motion generation (moveToJointPosition).\n",
      "INFO:motion:Computed joint trajectory: 1 waypoint, duration 4.08 seconds.\n",
      "INFO:panda:Starting new controller (Trajectory).\n"
     ]
    },
    {
     "name": "stdout",
     "output_type": "stream",
     "text": [
      "Saved /home/yisha/workspace/colmap_handeye/video/images/21.png\n",
      "Saved /home/yisha/workspace/colmap_handeye/video/depth/21.npy\n",
      "Saved pose to /home/yisha/workspace/colmap_handeye/video/poses/21.npy\n",
      "Saved /home/yisha/workspace/colmap_handeye/video/images/22.png\n",
      "Saved /home/yisha/workspace/colmap_handeye/video/depth/22.npy\n",
      "Saved pose to /home/yisha/workspace/colmap_handeye/video/poses/22.npy\n"
     ]
    }
   ],
   "source": [
    "import sys\n",
    "parent_dir = os.path.dirname(os.getcwd())\n",
    "parent_dir = os.path.dirname(parent_dir)\n",
    "sys.path.append(parent_dir)\n",
    "from realsense.realsense import Camera\n",
    "\n",
    "\n",
    "base_dir = '/home/yisha/workspace/colmap_handeye/video'\n",
    "os.makedirs(f'{base_dir}/images', exist_ok=True)\n",
    "os.makedirs(f'{base_dir}/depth', exist_ok=True)\n",
    "os.makedirs(f'{base_dir}/poses', exist_ok=True)\n",
    "\n",
    "device_serial = '233622078546' # '145422070656'\n",
    "\n",
    "rgb_resolution = (1280, 720)  # RGB resolution (width, height)\n",
    "depth_resolution = (1280, 720)  # Depth resolution (width, height)\n",
    "camera = Camera(device_serial, rgb_resolution, depth_resolution)\n",
    "camera.start()\n",
    "\n",
    "rgb_intrinsics, rgb_coeffs, depth_intrinsics, depth_coeffs = camera.get_intrinsics_raw()\n",
    "depth_scale = camera.get_depth_scale()\n",
    "\n",
    "print(f\"RGB Intrinsics: {rgb_intrinsics}\")\n",
    "print(f\"RGB Distortion Coefficients: {rgb_coeffs}\")\n",
    "rgb_intrinsics_path = f'{base_dir}/rgb_intrinsics.npz'\n",
    "np.savez(rgb_intrinsics_path, fx=rgb_intrinsics.fx, fy=rgb_intrinsics.fy, ppx=rgb_intrinsics.ppx, ppy=rgb_intrinsics.ppy, coeffs=rgb_intrinsics.coeffs)\n",
    "\n",
    "print(f\"Depth Scale: {depth_scale}\")\n",
    "print(f\"Depth Intrinsics: {depth_intrinsics}\")\n",
    "print(f\"Depth Distortion Coefficients: {depth_coeffs}\")\n",
    "depth_intrinsics_path = f'{base_dir}/depth_intrinsics.npz'\n",
    "np.savez(depth_intrinsics_path, fx=depth_intrinsics.fx, fy=depth_intrinsics.fy, ppx=depth_intrinsics.ppx, ppy=depth_intrinsics.ppy, coeffs=depth_intrinsics.coeffs, depth_scale=depth_scale)\n",
    "\n",
    "# drop the first few frames to allow the camera to warm up\n",
    "_, _ = camera.shoot()  \n",
    "time.sleep(2)\n",
    "panda.move_to_start()\n",
    "\n",
    "for i in range(joint_position_list.shape[0]):\n",
    "    joint_position = joint_position_list[i]\n",
    "    panda.move_to_joint_position(joint_position)\n",
    "    pose = panda.get_pose()\n",
    "\n",
    "    rgb_image, depth_image = camera.shoot()\n",
    "    depth_image = depth_image * depth_scale\n",
    "    rgb_filename = f'{base_dir}/images/{i}.png'\n",
    "    depth_filename = f'{base_dir}/depth/{i}.npy'\n",
    "    plt.imsave(rgb_filename, rgb_image)\n",
    "    np.save(depth_filename, depth_image)\n",
    "    print(f\"Saved {rgb_filename}\")\n",
    "    print(f\"Saved {depth_filename}\")\n",
    "\n",
    "    def save_pose(pose, base_dir, frame_num):\n",
    "        \"\"\"Save the robot arm's pose to a file.\"\"\"\n",
    "        pose_filename = f'{base_dir}/poses/{frame_num}.npy'\n",
    "        np.save(pose_filename, pose)\n",
    "        print(f\"Saved pose to {pose_filename}\")\n",
    "\n",
    "    save_pose(pose, base_dir, i)"
   ]
  },
  {
   "cell_type": "markdown",
   "metadata": {},
   "source": [
    "# Realsense Video Recording"
   ]
  },
  {
   "cell_type": "code",
   "execution_count": 13,
   "metadata": {},
   "outputs": [],
   "source": [
    "# import sys\n",
    "# parent_dir = os.path.dirname(os.getcwd())\n",
    "# parent_dir = os.path.dirname(parent_dir)\n",
    "# sys.path.append(parent_dir)\n",
    "# from realsense.realsense import Camera\n",
    "\n",
    "\n",
    "# base_dir = '/home/yisha/workspace/colmap_handeye/video'\n",
    "# os.makedirs(f'{base_dir}/images', exist_ok=True)\n",
    "# os.makedirs(f'{base_dir}/depth', exist_ok=True)\n",
    "# os.makedirs(f'{base_dir}/poses', exist_ok=True)\n",
    "\n",
    "# device_serial = '145422070656'\n",
    "\n",
    "# frame_num = 10\n",
    "# rgb_resolution = (1280, 720)  # RGB resolution (width, height)\n",
    "# depth_resolution = (1280, 720)  # Depth resolution (width, height)\n",
    "# camera = Camera(device_serial, rgb_resolution, depth_resolution)\n",
    "# camera.start()\n",
    "\n",
    "# rgb_intrinsics, rgb_coeffs, depth_intrinsics, depth_coeffs = camera.get_intrinsics_raw()\n",
    "# depth_scale = camera.get_depth_scale()\n",
    "\n",
    "# print(f\"RGB Intrinsics: {rgb_intrinsics}\")\n",
    "# print(f\"RGB Distortion Coefficients: {rgb_coeffs}\")\n",
    "# rgb_intrinsics_path = f'{base_dir}/rgb_intrinsics.npz'\n",
    "# np.savez(rgb_intrinsics_path, fx=rgb_intrinsics.fx, fy=rgb_intrinsics.fy, ppx=rgb_intrinsics.ppx, ppy=rgb_intrinsics.ppy, coeffs=rgb_intrinsics.coeffs)\n",
    "\n",
    "# print(f\"Depth Scale: {depth_scale}\\n\")\n",
    "# print(f\"Depth Intrinsics: {depth_intrinsics}\\n\")\n",
    "# print(f\"fx:{depth_intrinsics.fx},fy:{depth_intrinsics.fy},cx:{depth_intrinsics.ppx},cy:{depth_intrinsics.ppy}\")\n",
    "# print(f\"Depth Distortion Coefficients: {depth_coeffs}\\n\")\n",
    "# depth_intrinsics_path = f'{base_dir}/depth_intrinsics.npz'\n",
    "# np.savez(depth_intrinsics_path, fx=depth_intrinsics.fx, fy=depth_intrinsics.fy, ppx=depth_intrinsics.ppx, ppy=depth_intrinsics.ppy, coeffs=depth_intrinsics.coeffs, depth_scale=depth_scale)\n",
    "\n",
    "# # drop the first few frames to allow the camera to warm up\n",
    "# _, _ = camera.shoot()  \n",
    "# time.sleep(2)\n",
    "# for i in range(frame_num):\n",
    "#     time.sleep(1)\n",
    "#     rgb_image, depth_image = camera.shoot()\n",
    "#     depth_image = depth_image * depth_scale\n",
    "#     rgb_filename = f'{base_dir}/rgb/{i}.png'\n",
    "#     # depth_filename = f'{base_dir}/depth/{i}.npy'\n",
    "#     depth_filename = f'{base_dir}/depth/{i}.png'\n",
    "#     plt.imsave(rgb_filename, rgb_image)\n",
    "#     plt.imsave(depth_filename, depth_image)\n",
    "#     # np.save(depth_filename, depth_image)\n",
    "#     print(f\"Saved {rgb_filename}\")\n",
    "#     print(f\"Saved {depth_filename}\")\n"
   ]
  },
  {
   "cell_type": "code",
   "execution_count": 14,
   "metadata": {},
   "outputs": [],
   "source": [
    "# import cv2\n",
    "# import numpy as np\n",
    "# depth = cv2.imread('/home/yisha/workspace/colmap_handeye/mask.png', 0)\n",
    "# _, binary_mask = cv2.threshold(depth, 0, 255, cv2.THRESH_BINARY)\n",
    "# cv2.imwrite('mask.png', binary_mask)\n"
   ]
  },
  {
   "cell_type": "code",
   "execution_count": 15,
   "metadata": {},
   "outputs": [],
   "source": [
    "# import cv2\n",
    "# for i in range(10):\n",
    "#     path_2_img = f'/home/yisha/workspace/colmap_handeye/video/rgb/{i}.png'\n",
    "#     img = cv2.imread(path_2_img)\n",
    "#     h, w = img.shape[:2]\n",
    "#     cv2.imwrite(f'/home/yisha/workspace/FoundationPose/demo_data/mustard2/rgb/{i}.png', cv2.resize(img,(w // 2, h // 2)))\n",
    "#     if i == 0:\n",
    "#         cv2.imwrite(f'/home/yisha/workspace/sam2/notebooks/{i}.png', cv2.resize(img,(w // 2, h // 2)))"
   ]
  },
  {
   "cell_type": "code",
   "execution_count": 16,
   "metadata": {},
   "outputs": [],
   "source": [
    "# for i in range(10):\n",
    "#     # path_2_dep = f'/home/yisha/workspace/colmap_handeye/video/depth_resize/{i}.png'\n",
    "#     # img = cv2.imread(path_2_dep)\n",
    "#     # print(f'Max:{img.max()}')\n",
    "#     # print(path_2_dep, img.shape,'\\n')\n",
    "#     path_2_img = f'/home/yisha/workspace/colmap_handeye/video/rgb_resize/{i}.png'\n",
    "#     img = cv2.imread(path_2_img)\n",
    "#     print(path_2_img, img.shape,'\\n')"
   ]
  }
 ],
 "metadata": {
  "kernelspec": {
   "display_name": "colmap_calibration",
   "language": "python",
   "name": "python3"
  },
  "language_info": {
   "codemirror_mode": {
    "name": "ipython",
    "version": 3
   },
   "file_extension": ".py",
   "mimetype": "text/x-python",
   "name": "python",
   "nbconvert_exporter": "python",
   "pygments_lexer": "ipython3",
   "version": "3.8.20"
  }
 },
 "nbformat": 4,
 "nbformat_minor": 2
}
